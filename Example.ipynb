{
 "cells": [
  {
   "cell_type": "code",
   "execution_count": 1,
   "metadata": {},
   "outputs": [
    {
     "name": "stderr",
     "output_type": "stream",
     "text": [
      "[nltk_data] Downloading package cmudict to\n",
      "[nltk_data]     /Users/HAMilton59/nltk_data...\n",
      "[nltk_data]   Package cmudict is already up-to-date!\n"
     ]
    }
   ],
   "source": [
    "import rhymeGen as rg"
   ]
  },
  {
   "cell_type": "markdown",
   "metadata": {},
   "source": [
    "This next section is a couple of examples of how to use the rhymeGen function.\n",
    "INPUT:\n",
    "    first word : this is the word that needs to be rhymed with\n",
    "    second word: this is the word that you would like to be synonomous with\n",
    "OUTPUT:\n",
    "    print : \n",
    "        the function will print out the possible words. The format will show the words in order of how strong the             prediction is  \n",
    "    return : \n",
    "        the function returns a list of the words. The fist element is the Low Lvl. sencond is Med Lvl. last is High           Lvl. NOTE: the u in front of the words is just to let the compiler know it is unicode."
   ]
  },
  {
   "cell_type": "code",
   "execution_count": 2,
   "metadata": {},
   "outputs": [
    {
     "name": "stdout",
     "output_type": "stream",
     "text": [
      "Low Lvl. Rhymes :\n",
      "\t trill \n",
      "\t frill \n",
      "\t uphill \n",
      "\t fulfill \n",
      "\t shrill \n",
      "\t chill \n",
      " \n",
      "--------------------------------------------------------------------\n",
      "Med Lvl. Rhymes :\n",
      " \n",
      "--------------------------------------------------------------------\n",
      "High Lvl. Rhymes :\n"
     ]
    },
    {
     "data": {
      "text/plain": [
       "[[u'trill', u'frill', u'uphill', u'fulfill', u'shrill', u'chill'], [], []]"
      ]
     },
     "execution_count": 2,
     "metadata": {},
     "output_type": "execute_result"
    }
   ],
   "source": [
    "rg.rhymeGen(\"hill\",\"green\")"
   ]
  },
  {
   "cell_type": "code",
   "execution_count": 3,
   "metadata": {},
   "outputs": [
    {
     "name": "stdout",
     "output_type": "stream",
     "text": [
      "Low Lvl. Rhymes :\n",
      "\t dice \n",
      "\t vice \n",
      "\t advice \n",
      "\t ice \n",
      "\t device \n",
      "\t price \n",
      "\t trice \n",
      "\t spice \n",
      " \n",
      "--------------------------------------------------------------------\n",
      "Med Lvl. Rhymes :\n",
      "\t slice \n",
      " \n",
      "--------------------------------------------------------------------\n",
      "High Lvl. Rhymes :\n"
     ]
    },
    {
     "data": {
      "text/plain": [
       "[[u'dice',\n",
       "  u'vice',\n",
       "  u'advice',\n",
       "  u'ice',\n",
       "  u'device',\n",
       "  u'price',\n",
       "  u'trice',\n",
       "  u'spice'],\n",
       " [u'slice'],\n",
       " []]"
      ]
     },
     "execution_count": 3,
     "metadata": {},
     "output_type": "execute_result"
    }
   ],
   "source": [
    "rg.rhymeGen(\"rice\",\"snack\")"
   ]
  },
  {
   "cell_type": "code",
   "execution_count": 4,
   "metadata": {},
   "outputs": [
    {
     "name": "stdout",
     "output_type": "stream",
     "text": [
      "Low Lvl. Rhymes :\n",
      " \n",
      "--------------------------------------------------------------------\n",
      "Med Lvl. Rhymes :\n",
      " \n",
      "--------------------------------------------------------------------\n",
      "High Lvl. Rhymes :\n"
     ]
    },
    {
     "data": {
      "text/plain": [
       "[[], [], []]"
      ]
     },
     "execution_count": 4,
     "metadata": {},
     "output_type": "execute_result"
    }
   ],
   "source": [
    "rg.rhymeGen(\"fish\",\"blue\")"
   ]
  },
  {
   "cell_type": "code",
   "execution_count": null,
   "metadata": {},
   "outputs": [],
   "source": []
  }
 ],
 "metadata": {
  "kernelspec": {
   "display_name": "Python 2",
   "language": "python",
   "name": "python2"
  },
  "language_info": {
   "codemirror_mode": {
    "name": "ipython",
    "version": 2
   },
   "file_extension": ".py",
   "mimetype": "text/x-python",
   "name": "python",
   "nbconvert_exporter": "python",
   "pygments_lexer": "ipython2",
   "version": "2.7.15"
  }
 },
 "nbformat": 4,
 "nbformat_minor": 2
}

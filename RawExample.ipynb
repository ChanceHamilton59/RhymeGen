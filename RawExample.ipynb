{
 "cells": [
  {
   "cell_type": "code",
   "execution_count": 174,
   "metadata": {},
   "outputs": [
    {
     "name": "stderr",
     "output_type": "stream",
     "text": [
      "[nltk_data] Downloading package cmudict to\n",
      "[nltk_data]     /Users/HAMilton59/nltk_data...\n",
      "[nltk_data]   Package cmudict is already up-to-date!\n"
     ]
    }
   ],
   "source": [
    "from thesaurus import Word\n",
    "import pandas as pd\n",
    "import pronouncing\n",
    "import nltk\n",
    "from nltk.corpus import wordnet\n",
    "nltk.download('cmudict')\n",
    "import sys\n",
    "def printf(format, *args):\n",
    "    sys.stdout.write(format % args)"
   ]
  },
  {
   "cell_type": "code",
   "execution_count": 160,
   "metadata": {},
   "outputs": [],
   "source": [
    "def rhyme(inp, level):\n",
    "    entries = nltk.corpus.cmudict.entries()\n",
    "    syllables = [(word, syl) for word, syl in entries if word == inp]\n",
    "    rhymes = []\n",
    "    for (word, syllable) in syllables:\n",
    "        rhymes += [word for word, pron in entries if pron[-level:] == syllable[-level:]]\n",
    "    return list(rhymes)"
   ]
  },
  {
   "cell_type": "code",
   "execution_count": 205,
   "metadata": {},
   "outputs": [],
   "source": [
    "def myRhym(word):\n",
    "    pron = pronouncing.rhymes(word)\n",
    "    if len(pron) == 0 :\n",
    "        bupron = []\n",
    "        i = 5\n",
    "        while len(bupron) < 5:\n",
    "            bupron = rhyme(word,i)\n",
    "            if len(bupron) == 5 :\n",
    "                burpon = rhyme(word,i-1)\n",
    "                break\n",
    "            i-=1\n",
    "        if word in bupron: bupron.remove(word)    \n",
    "        return burpon\n",
    "    else :\n",
    "        bupron = []\n",
    "        i = 5\n",
    "        while len(bupron) < 5:\n",
    "            bupron = rhyme(word,i)\n",
    "            if len(bupron) == 5 :\n",
    "                burpon = rhyme(word,i-1)\n",
    "                break\n",
    "            i-=1\n",
    "        for w in bupron :\n",
    "            if w not in pron and w != word:\n",
    "                pron.append(w)\n",
    "        if word in bupron: bupron.remove(word)\n",
    "        return pron\n",
    "        "
   ]
  },
  {
   "cell_type": "code",
   "execution_count": 211,
   "metadata": {},
   "outputs": [],
   "source": [
    "def rhymsyn(word1, word2):\n",
    "    rhymers = myRhym(word1)\n",
    "    needers = Word(word2).synonyms()\n",
    "    poss = pd.DataFrame({'High': [],\n",
    "                         'Med' : [],\n",
    "                         'Low' : []})\n",
    "    #print(needers)\n",
    "    for words in rhymers :\n",
    "        if words in needers :\n",
    "            poss = poss.append({'High': words}, ignore_index=True) \n",
    "        try: \n",
    "            for syns1 in Word(words).synonyms() :\n",
    "                if syns1 in needers :\n",
    "                    poss = poss.append({'Med': words}, ignore_index=True)\n",
    "                for syns2 in Word(syns1).synonyms() :\n",
    "                    if syns2 in needers :\n",
    "                            poss = poss.append({'Low': words}, ignore_index=True)\n",
    "        except:\n",
    "             stuff = False\n",
    "    out = scrub(poss)\n",
    "    printRhymes(out)\n",
    "        \n",
    "    return out"
   ]
  },
  {
   "cell_type": "code",
   "execution_count": 212,
   "metadata": {},
   "outputs": [],
   "source": [
    "def scrub(k):\n",
    "    k1 = list(set(k['Low']))\n",
    "    k2 = list(set(k['Med']))\n",
    "    k3 = list(set(k['High']))\n",
    "    kL = []\n",
    "    kM = []\n",
    "    kH = []\n",
    "    for word in k1 :\n",
    "        if type(word) != float :\n",
    "            kL.append(word)\n",
    "    for word in k2 :\n",
    "        if type(word) != float :\n",
    "            kM.append(word)\n",
    "    for word in k3 :\n",
    "        if type(word) != float :\n",
    "            kH.append(word)\n",
    "    for word in kL :\n",
    "        if word in kH or word in kM:\n",
    "            kL.remove(word)\n",
    "    for word in kM :\n",
    "        if word in kH :\n",
    "            kM.remove(word)\n",
    "    return [kL, kM, kH]"
   ]
  },
  {
   "cell_type": "code",
   "execution_count": 215,
   "metadata": {},
   "outputs": [
    {
     "name": "stdout",
     "output_type": "stream",
     "text": [
      "Low Lvl. Rhymes :\n",
      "\t crime \n",
      "--------------------------------------------------------------------\n",
      "Med Lvl. Rhymes :\n",
      " \n",
      "--------------------------------------------------------------------\n",
      "High Lvl. Rhymes :\n"
     ]
    }
   ],
   "source": [
    "example = rhymsyn(\"climb\",\"bladder\")"
   ]
  },
  {
   "cell_type": "code",
   "execution_count": 214,
   "metadata": {},
   "outputs": [
    {
     "name": "stdout",
     "output_type": "stream",
     "text": [
      "[u'prime', u'chime', u'rhyme']\n"
     ]
    }
   ],
   "source": [
    "print(example[0])"
   ]
  },
  {
   "cell_type": "code",
   "execution_count": 191,
   "metadata": {},
   "outputs": [],
   "source": [
    "def printRhymes(ryms) :\n",
    "    print(\"Low Lvl. Rhymes :\")\n",
    "    for words in ryms[0] :\n",
    "        printf(\"\\t %s,\", words)\n",
    "    print(\" \")\n",
    "    print(\"--------------------------------------------------------------------\")\n",
    "    print(\"Med Lvl. Rhymes :\")\n",
    "    for words in ryms[1] :\n",
    "        printf(\"\\t %s,\", words)\n",
    "    print(\" \")\n",
    "    print(\"--------------------------------------------------------------------\")\n",
    "    print(\"High Lvl. Rhymes :\")\n",
    "    for words in ryms[2] :\n",
    "        printf(\"\\t %s,\", words)"
   ]
  },
  {
   "cell_type": "code",
   "execution_count": null,
   "metadata": {},
   "outputs": [],
   "source": []
  }
 ],
 "metadata": {
  "kernelspec": {
   "display_name": "Python 2",
   "language": "python",
   "name": "python2"
  },
  "language_info": {
   "codemirror_mode": {
    "name": "ipython",
    "version": 2
   },
   "file_extension": ".py",
   "mimetype": "text/x-python",
   "name": "python",
   "nbconvert_exporter": "python",
   "pygments_lexer": "ipython2",
   "version": "2.7.15"
  }
 },
 "nbformat": 4,
 "nbformat_minor": 2
}
